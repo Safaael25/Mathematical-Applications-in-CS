{
  "cells": [
    {
      "cell_type": "code",
      "execution_count": 1,
      "metadata": {
        "id": "hS6ddrZYbTck"
      },
      "outputs": [],
      "source": [
        "import numpy as np\n",
        "import matplotlib.pyplot as plt\n",
        "from mpl_toolkits.mplot3d import Axes3D"
      ]
    },
    {
      "cell_type": "markdown",
      "metadata": {
        "id": "RE83t-lKw1MV"
      },
      "source": [
        "#Assignment 3\n",
        "###Mathematical Applications in Computer Science\n",
        "\n",
        "###This is the work of:\n",
        "safaa elhmede (206736639)<br>\n",
        "#last version checkkkk\n",
        "Student2_name (Student2_ID)"
      ]
    },
    {
      "cell_type": "markdown",
      "metadata": {
        "id": "4jCW3UuUx5zm"
      },
      "source": [
        "###Exercise 1:\n"
      ]
    },
    {
      "cell_type": "markdown",
      "metadata": {
        "id": "gKSK-noZyXl5"
      },
      "source": [
        "#####(a) Complete the following function:"
      ]
    },
    {
      "cell_type": "code",
      "execution_count": 2,
      "metadata": {
        "id": "mNh6KO0IbvAh"
      },
      "outputs": [],
      "source": [
        "# 1(a)\n",
        "def lemniscate(f,d=1000):\n",
        "    #init theta values from 0 to 2*pi with 1000 points\n",
        "    theta = np.linspace(0, 2 * np.pi, 1000) #theta = 0:0.01:2*pi;\n",
        "    \n",
        "   \n",
        "    #calculation of r according to the equation\n",
        "    r = f * np.sqrt(2 * np.cos(2 * theta))\n",
        "    \n",
        "    #calculation of x and y according to the equation\n",
        "    x = r * np.cos(theta)\n",
        "    y = r * np.sin(theta)\n",
        "    \n",
        "     #draw the graph\n",
        "    plt.figure(figsize=(8, 8))\n",
        "    plt.plot(x + d, y, label=f'f={f}, d={d}', color='blue')  \n",
        "    plt.scatter([-f, f], [0, 0], color='red', label='מוקדים')  #מוקדים \n",
        "    plt.axhline(0, color='black', linewidth=0.5, linestyle='--')  \n",
        "    plt.axvline(0, color='black', linewidth=0.5, linestyle='--')  \n",
        "    plt.gca().set_aspect('equal', adjustable='box')\n",
        "    plt.title(\"lemniscate\")\n",
        "    plt.legend()\n",
        "    plt.xlabel(\"x\")\n",
        "    plt.ylabel(\"y\")\n",
        "    plt.grid()\n",
        "    plt.show()\n",
        "  \n"
      ]
    },
    {
      "cell_type": "markdown",
      "metadata": {
        "id": "Y5Bxg3nOyRyJ"
      },
      "source": [
        "#####(b) Draw the lemniscate for f=5"
      ]
    },
    {
      "cell_type": "code",
      "execution_count": 3,
      "metadata": {
        "id": "yYVYvN4-dDe8"
      },
      "outputs": [],
      "source": [
        "# 1(b)\n",
        "#using first function to plot the lemniscate,d is set to 1000\n",
        "lemniscate(f=5,d=1000)\n"
      ]
    },
    {
      "cell_type": "markdown",
      "metadata": {
        "id": "ybGNKYWEzSQm"
      },
      "source": [
        "#####(c) Is there a problem with the graph above? If so, what is it? What made this problem? How can we fix/minimize this error? (english)"
      ]
    },
    {
      "cell_type": "markdown",
      "metadata": {
        "id": "98YDwAFTzT6n"
      },
      "source": [
        "1(c) \n",
        "YES,\n",
        "there is a problem in our code,because the formula of r is included sqrt and this is some time not legal because of negative number that cos theta get ,so we get runtime error because of this,because root is just for positive numbers and r is positive (in real life).\n",
        "so,to fix it we can make it legal and use the formula that makes problems (r=np.sqrt(2 * np.cos(2 * theta))) if thata is positve or zerro...\n",
        "or modify the function to handle negative or undefined values \n",
        "the solution depent on the person who use it and for which purpose,so all aove solution depend on the situation we are in.."
      ]
    },
    {
      "cell_type": "markdown",
      "metadata": {
        "id": "3uUdrAOSzuhc"
      },
      "source": [
        "#####(d) Draw another example or 2 which show how your solution is beneficial.\n",
        "\n",
        "our solutin is ok because this doest make problems in the r formula .\n",
        "Masking invalid \\(\\theta\\) values ensures that the square root function only evaluates on valid domains, avoiding runtime errors and producing smooth, continuous lemniscate plots. The corrected approach eliminates artifacts or missing regions and supports flexibility for exploring various parameters \"f\" and \"d\", allowing accurate visualization of the lemniscate's shape and position.\n",
        "\n",
        "\n",
        "\n",
        "the examples:\n",
        "The code demonstrates how to visualize a lemniscate curve by adjusting two parameters:  f  and  d . f  represents the distance of the foci from the center. A larger  f  makes the lemniscate wider, while a smaller  f  makes it narrower.  d shifts the graph along the x-axis. Increasing  d  moves the curve to the right, and decreasing it moves the curve to the left. By experimenting with different values of f and  d, you can see how the curve’s shape and position change. For example, smaller  f  values result in a more compact curve, while larger values make the lemniscate expand. Additionally, changing  d  helps reposition the curve to avoid overlap between multiple graphs. Adjusting  f  affects the width of the lemniscate, while d  controls its horizontal position. These adjustments allow for greater flexibility and clarity when plotting multiple curves.\n",
        "\n",
        "\n",
        "\n",
        "\n",
        "In this example, f = 5  makes the lemniscate wider by positioning the foci 5 units from the center. The larger  f results in a more pronounced curve.  d = 1500  shifts the curve to the right, preventing overlap with other curves or the y-axis. This adjustment helps in creating a clearer, more readable graph, especially when multiple lemniscates are plotted. The combination of adjusting  f  and  d  allows for better visualization, making the graph well-spaced and easy to interpret.\n",
        "\n",
        "\n",
        "\n",
        "2-\n",
        "In this example, let's choose f = 3 and d = 500. With  f = 3 , the foci are placed closer together, resulting in a narrower lemniscate curve. This is useful when you want to focus on a smaller, more compact curve and emphasize the central part of the graph. The value  d = 500  shifts the curve to the right along the x-axis, providing ample space to avoid overlap with the y-axis or other elements in the plot. This choice of  f  and  d  is beneficial for creating a graph that highlights the internal structure of the lemniscate, especially in situations where clarity and spacing between curves are important for better visualization and comparison.\n"
      ]
    },
    {
      "cell_type": "code",
      "execution_count": 4,
      "metadata": {
        "id": "t9UZ_0yXz67o"
      },
      "outputs": [],
      "source": [
        "\n",
        "def lemniscate(f, d=0):\n",
        "    #initialize theta values from 0 to 2*pi with 1000 points\n",
        "    theta = np.linspace(0, 2 * np.pi, 1000)\n",
        "    \n",
        "    #calculate cos(2*theta) and filter invalid values (but include where r=0)\n",
        "    \n",
        "    cos_2theta = np.cos(2 * theta)\n",
        "    valid_mask = cos_2theta >= 0\n",
        "    theta = np.append(theta[valid_mask], [0, np.pi/2, np.pi, 3*np.pi/2])  # Add key points\n",
        "    theta = np.unique(theta)  # Ensure no duplicates\n",
        "    \n",
        "    #calculate r according to the equation\n",
        "    r = np.zeros_like(theta)\n",
        "    valid_r_mask = np.cos(2 * theta) >= 0\n",
        "    r[valid_r_mask] = f * np.sqrt(2 * np.cos(2 * theta[valid_r_mask]))\n",
        "    \n",
        "    #calculate x and y\n",
        "    x = r * np.cos(theta) + d  # Include offset d\n",
        "    y = r * np.sin(theta)\n",
        "    \n",
        "    #draw the graph:\n",
        "    plt.figure(figsize=(8, 8))\n",
        "    plt.plot(x, y, label=f'f={f}, d={d}', color='blue')  # Adjusted graph\n",
        "    plt.scatter([-f + d, f + d], [0, 0], color='red', label='Foci')  # Plot foci\n",
        "    plt.axhline(0, color='black', linewidth=0.5, linestyle='--')  # X-axis\n",
        "    plt.axvline(0, color='black', linewidth=0.5, linestyle='--')  # Y-axis\n",
        "    plt.gca().set_aspect('equal', adjustable='box')\n",
        "    plt.title(\"Lemniscate of Bernoulli\")\n",
        "    plt.legend()\n",
        "    plt.xlabel(\"x\")\n",
        "    plt.ylabel(\"y\")\n",
        "    plt.grid()\n",
        "    plt.show()\n",
        "\n",
        "# Examples:\n",
        "# 1. Passes through (0, 0) check\n",
        "lemniscate(2, d=0)  # Example 1:passes through (0, 0)\n",
        "lemniscate(3, d=1)  # Example 2:correct offset \n"
      ]
    },
    {
      "cell_type": "markdown",
      "metadata": {
        "id": "bf3F-9GKzpb2"
      },
      "source": [
        "###Exercise 2:"
      ]
    },
    {
      "cell_type": "code",
      "execution_count": null,
      "metadata": {},
      "outputs": [],
      "source": []
    },
    {
      "cell_type": "markdown",
      "metadata": {
        "id": "KQkWoKD90PxS"
      },
      "source": [
        "#####(a) Complete the following function:"
      ]
    },
    {
      "cell_type": "code",
      "execution_count": 5,
      "metadata": {
        "id": "sup9-vF8e_D_"
      },
      "outputs": [],
      "source": [
        "# 2(a)\n",
        "def torus(r, R):\n",
        "  \n",
        "\n",
        "\n",
        "    \"\"\"\n",
        "    Function to generate and plot a torus.\n",
        "\n",
        "    Parameters:\n",
        "    R (float): The major radius (distance from the center of the tube to the center of the torus).\n",
        "    r (float): The minor radius (radius of the tube).\n",
        "    \"\"\"\n",
        "    # Define angles for parameterization\n",
        "    theta = np.linspace(0, 2 * np.pi, 100)\n",
        "    phi = np.linspace(0, 2 * np.pi, 100)\n",
        "    theta, phi = np.meshgrid(theta, phi)\n",
        "\n",
        "    # Parametric equations for the torus\n",
        "    x = (R + r * np.cos(theta)) * np.cos(phi)\n",
        "    y = (R + r * np.cos(theta)) * np.sin(phi)\n",
        "    z = r * np.sin(theta)\n",
        "\n",
        "    # Create a 3D plot\n",
        "    fig = plt.figure(figsize=(10, 8))\n",
        "    ax = fig.add_subplot(111, projection='3d')\n",
        "    ax.plot_surface(x, y, z, cmap='viridis', edgecolor='k', alpha=0.8)\n",
        "\n",
        "    #add labels and title to the plot (x,y,z) to make it more clear ...\n",
        "    ax.set_title(\"Torus\")\n",
        "    ax.set_xlabel(\"X\")\n",
        "    ax.set_ylabel(\"Y\")\n",
        "    ax.set_zlabel(\"Z\")\n",
        "\n",
        "    #show the plot \n",
        "    plt.show()\n",
        "\n",
        "\n"
      ]
    },
    {
      "cell_type": "markdown",
      "metadata": {
        "id": "cNQs4kWh0Vkq"
      },
      "source": [
        "#####(b) Draw a torus with r=R=1"
      ]
    },
    {
      "cell_type": "code",
      "execution_count": 6,
      "metadata": {
        "id": "-UlXLakVoJFO"
      },
      "outputs": [],
      "source": [
        "# 2(b)\n",
        "#using the function to plot the torus with R=2 and r=1 from (a)\n",
        "torus(R=2, r=1)\n"
      ]
    },
    {
      "cell_type": "markdown",
      "metadata": {
        "id": "ad0Qw1l50cqa"
      },
      "source": [
        "#####(c) Increase the values of r and R (separately). What is the meaning of each of these parameters and how can it be seen in the torus' shape? Draw examples that support your claim."
      ]
    },
    {
      "cell_type": "code",
      "execution_count": 7,
      "metadata": {
        "id": "SNxlQ8wNomDC"
      },
      "outputs": [],
      "source": [
        "# 2(c) - code for making the examples:\n",
        "\n",
        "#examples to demonstrate the different torus shapes:\n",
        "torus(R=3, r=1)  #Thin ring, large hole.\n",
        "torus(R=3,r=3)   #Thicker ring, smaller hole.\n",
        "torus(R=5, r=3)  #Larger ring, smaller hole.\n",
        "torus(R=5, r=1)  #Larger ring, larger hole\n"
      ]
    },
    {
      "cell_type": "markdown",
      "metadata": {
        "id": "RJCxEcgO1MEk"
      },
      "source": [
        "ANSWER: \n",
        "A torus is defined by two parameters: the major radius (R), which controls the distance from the center of the tube to the center of the torus, and the minor radius (r), which controls the thickness of the tube. Increasing R makes the torus larger and moves it farther from the origin, while increasing r makes the tube thicker, reducing the hole in the center. Larger values of R result in a bigger overall shape, while larger r creates a fuller, thicker ring. Adjusting both parameters together can create a variety of torus shapes, from thin rings to large, thick tubes.\n",
        "\n"
      ]
    }
  ],
  "metadata": {
    "colab": {
      "provenance": []
    },
    "kernelspec": {
      "display_name": "Python 3",
      "name": "python3"
    },
    "language_info": {
      "name": "python"
    }
  },
  "nbformat": 4,
  "nbformat_minor": 0
}
